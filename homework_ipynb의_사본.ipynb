{
  "nbformat": 4,
  "nbformat_minor": 0,
  "metadata": {
    "colab": {
      "provenance": [],
      "authorship_tag": "ABX9TyNQRwnjE6WZSI3l22SiOgAU",
      "include_colab_link": true
    },
    "kernelspec": {
      "name": "python3",
      "display_name": "Python 3"
    },
    "language_info": {
      "name": "python"
    }
  },
  "cells": [
    {
      "cell_type": "markdown",
      "metadata": {
        "id": "view-in-github",
        "colab_type": "text"
      },
      "source": [
        "<a href=\"https://colab.research.google.com/github/choimando/sistHomework/blob/main/homework_ipynb%EC%9D%98_%EC%82%AC%EB%B3%B8.ipynb\" target=\"_parent\"><img src=\"https://colab.research.google.com/assets/colab-badge.svg\" alt=\"Open In Colab\"/></a>"
      ]
    },
    {
      "cell_type": "code",
      "source": [
        "!sudo apt-get install -y fonts-nanum\n",
        "!sudo fc-cache -fv\n",
        "!rm ~/.cache/matplotlib -rf"
      ],
      "metadata": {
        "colab": {
          "base_uri": "https://localhost:8080/"
        },
        "id": "g-J8ICiZIHHt",
        "outputId": "bfbe9267-c0b2-456a-c857-560917c62d7a"
      },
      "execution_count": 2,
      "outputs": [
        {
          "output_type": "stream",
          "name": "stdout",
          "text": [
            "Reading package lists... Done\n",
            "Building dependency tree       \n",
            "Reading state information... Done\n",
            "fonts-nanum is already the newest version (20170925-1).\n",
            "The following package was automatically installed and is no longer required:\n",
            "  libnvidia-common-460\n",
            "Use 'sudo apt autoremove' to remove it.\n",
            "0 upgraded, 0 newly installed, 0 to remove and 21 not upgraded.\n",
            "/usr/share/fonts: caching, new cache contents: 0 fonts, 1 dirs\n",
            "/usr/share/fonts/truetype: caching, new cache contents: 0 fonts, 3 dirs\n",
            "/usr/share/fonts/truetype/humor-sans: caching, new cache contents: 1 fonts, 0 dirs\n",
            "/usr/share/fonts/truetype/liberation: caching, new cache contents: 16 fonts, 0 dirs\n",
            "/usr/share/fonts/truetype/nanum: caching, new cache contents: 10 fonts, 0 dirs\n",
            "/usr/local/share/fonts: caching, new cache contents: 0 fonts, 0 dirs\n",
            "/root/.local/share/fonts: skipping, no such directory\n",
            "/root/.fonts: skipping, no such directory\n",
            "/var/cache/fontconfig: cleaning cache directory\n",
            "/root/.cache/fontconfig: not cleaning non-existent cache directory\n",
            "/root/.fontconfig: not cleaning non-existent cache directory\n",
            "fc-cache: succeeded\n"
          ]
        }
      ]
    },
    {
      "cell_type": "code",
      "execution_count": 3,
      "metadata": {
        "id": "ZmbztdAVGdrL"
      },
      "outputs": [],
      "source": [
        "import pandas as pd\n",
        "import numpy as np\n",
        "import seaborn as sns"
      ]
    },
    {
      "cell_type": "code",
      "source": [
        "from google.colab import drive\n",
        "drive.mount('/content/gdrive')"
      ],
      "metadata": {
        "colab": {
          "base_uri": "https://localhost:8080/"
        },
        "id": "X8sSPEvdHWHo",
        "outputId": "abbf031d-0f9d-42f0-ad94-647a2bfad6c1"
      },
      "execution_count": 4,
      "outputs": [
        {
          "output_type": "stream",
          "name": "stdout",
          "text": [
            "Drive already mounted at /content/gdrive; to attempt to forcibly remount, call drive.mount(\"/content/gdrive\", force_remount=True).\n"
          ]
        }
      ]
    },
    {
      "cell_type": "code",
      "source": [
        "forest_unlawfulness = pd.read_csv(\"/content/gdrive/My Drive/Colab Notebooks/산림청_산림 불법행위 단속현황_20211231.csv\",encoding= 'CP949')\n",
        "forest = forest_unlawfulness.copy()"
      ],
      "metadata": {
        "id": "cfYESUfRHWyB"
      },
      "execution_count": 5,
      "outputs": []
    },
    {
      "cell_type": "code",
      "source": [
        "forest"
      ],
      "metadata": {
        "colab": {
          "base_uri": "https://localhost:8080/",
          "height": 250
        },
        "id": "G_3tpcfIH3u3",
        "outputId": "bcdc0db2-a1fb-4129-a2fc-4ea3b15be1ee"
      },
      "execution_count": 6,
      "outputs": [
        {
          "output_type": "execute_result",
          "data": {
            "text/plain": [
              "     년도  불법 산림형질변경(건)  불법 산림형질변경(ha)  무허가벌채(건)  무허가벌채(ha)  도벌(건)  도벌(ha)  \\\n",
              "0  2017          2640            493      1064         79     87       5   \n",
              "1  2018          2306            405       270         90     20       1   \n",
              "2  2019          2444            397       271         98     33       6   \n",
              "3  2020          2421            377       352         40     23       1   \n",
              "4  2021          2629            447       379         48     23       2   \n",
              "\n",
              "   기타(건)  기타(ha)  \n",
              "0   1879    1055  \n",
              "1    488     967  \n",
              "2    573     393  \n",
              "3    495     245  \n",
              "4    395     647  "
            ],
            "text/html": [
              "\n",
              "  <div id=\"df-552a0422-035b-45b9-9fc6-dc2ae03bf161\">\n",
              "    <div class=\"colab-df-container\">\n",
              "      <div>\n",
              "<style scoped>\n",
              "    .dataframe tbody tr th:only-of-type {\n",
              "        vertical-align: middle;\n",
              "    }\n",
              "\n",
              "    .dataframe tbody tr th {\n",
              "        vertical-align: top;\n",
              "    }\n",
              "\n",
              "    .dataframe thead th {\n",
              "        text-align: right;\n",
              "    }\n",
              "</style>\n",
              "<table border=\"1\" class=\"dataframe\">\n",
              "  <thead>\n",
              "    <tr style=\"text-align: right;\">\n",
              "      <th></th>\n",
              "      <th>년도</th>\n",
              "      <th>불법 산림형질변경(건)</th>\n",
              "      <th>불법 산림형질변경(ha)</th>\n",
              "      <th>무허가벌채(건)</th>\n",
              "      <th>무허가벌채(ha)</th>\n",
              "      <th>도벌(건)</th>\n",
              "      <th>도벌(ha)</th>\n",
              "      <th>기타(건)</th>\n",
              "      <th>기타(ha)</th>\n",
              "    </tr>\n",
              "  </thead>\n",
              "  <tbody>\n",
              "    <tr>\n",
              "      <th>0</th>\n",
              "      <td>2017</td>\n",
              "      <td>2640</td>\n",
              "      <td>493</td>\n",
              "      <td>1064</td>\n",
              "      <td>79</td>\n",
              "      <td>87</td>\n",
              "      <td>5</td>\n",
              "      <td>1879</td>\n",
              "      <td>1055</td>\n",
              "    </tr>\n",
              "    <tr>\n",
              "      <th>1</th>\n",
              "      <td>2018</td>\n",
              "      <td>2306</td>\n",
              "      <td>405</td>\n",
              "      <td>270</td>\n",
              "      <td>90</td>\n",
              "      <td>20</td>\n",
              "      <td>1</td>\n",
              "      <td>488</td>\n",
              "      <td>967</td>\n",
              "    </tr>\n",
              "    <tr>\n",
              "      <th>2</th>\n",
              "      <td>2019</td>\n",
              "      <td>2444</td>\n",
              "      <td>397</td>\n",
              "      <td>271</td>\n",
              "      <td>98</td>\n",
              "      <td>33</td>\n",
              "      <td>6</td>\n",
              "      <td>573</td>\n",
              "      <td>393</td>\n",
              "    </tr>\n",
              "    <tr>\n",
              "      <th>3</th>\n",
              "      <td>2020</td>\n",
              "      <td>2421</td>\n",
              "      <td>377</td>\n",
              "      <td>352</td>\n",
              "      <td>40</td>\n",
              "      <td>23</td>\n",
              "      <td>1</td>\n",
              "      <td>495</td>\n",
              "      <td>245</td>\n",
              "    </tr>\n",
              "    <tr>\n",
              "      <th>4</th>\n",
              "      <td>2021</td>\n",
              "      <td>2629</td>\n",
              "      <td>447</td>\n",
              "      <td>379</td>\n",
              "      <td>48</td>\n",
              "      <td>23</td>\n",
              "      <td>2</td>\n",
              "      <td>395</td>\n",
              "      <td>647</td>\n",
              "    </tr>\n",
              "  </tbody>\n",
              "</table>\n",
              "</div>\n",
              "      <button class=\"colab-df-convert\" onclick=\"convertToInteractive('df-552a0422-035b-45b9-9fc6-dc2ae03bf161')\"\n",
              "              title=\"Convert this dataframe to an interactive table.\"\n",
              "              style=\"display:none;\">\n",
              "        \n",
              "  <svg xmlns=\"http://www.w3.org/2000/svg\" height=\"24px\"viewBox=\"0 0 24 24\"\n",
              "       width=\"24px\">\n",
              "    <path d=\"M0 0h24v24H0V0z\" fill=\"none\"/>\n",
              "    <path d=\"M18.56 5.44l.94 2.06.94-2.06 2.06-.94-2.06-.94-.94-2.06-.94 2.06-2.06.94zm-11 1L8.5 8.5l.94-2.06 2.06-.94-2.06-.94L8.5 2.5l-.94 2.06-2.06.94zm10 10l.94 2.06.94-2.06 2.06-.94-2.06-.94-.94-2.06-.94 2.06-2.06.94z\"/><path d=\"M17.41 7.96l-1.37-1.37c-.4-.4-.92-.59-1.43-.59-.52 0-1.04.2-1.43.59L10.3 9.45l-7.72 7.72c-.78.78-.78 2.05 0 2.83L4 21.41c.39.39.9.59 1.41.59.51 0 1.02-.2 1.41-.59l7.78-7.78 2.81-2.81c.8-.78.8-2.07 0-2.86zM5.41 20L4 18.59l7.72-7.72 1.47 1.35L5.41 20z\"/>\n",
              "  </svg>\n",
              "      </button>\n",
              "      \n",
              "  <style>\n",
              "    .colab-df-container {\n",
              "      display:flex;\n",
              "      flex-wrap:wrap;\n",
              "      gap: 12px;\n",
              "    }\n",
              "\n",
              "    .colab-df-convert {\n",
              "      background-color: #E8F0FE;\n",
              "      border: none;\n",
              "      border-radius: 50%;\n",
              "      cursor: pointer;\n",
              "      display: none;\n",
              "      fill: #1967D2;\n",
              "      height: 32px;\n",
              "      padding: 0 0 0 0;\n",
              "      width: 32px;\n",
              "    }\n",
              "\n",
              "    .colab-df-convert:hover {\n",
              "      background-color: #E2EBFA;\n",
              "      box-shadow: 0px 1px 2px rgba(60, 64, 67, 0.3), 0px 1px 3px 1px rgba(60, 64, 67, 0.15);\n",
              "      fill: #174EA6;\n",
              "    }\n",
              "\n",
              "    [theme=dark] .colab-df-convert {\n",
              "      background-color: #3B4455;\n",
              "      fill: #D2E3FC;\n",
              "    }\n",
              "\n",
              "    [theme=dark] .colab-df-convert:hover {\n",
              "      background-color: #434B5C;\n",
              "      box-shadow: 0px 1px 3px 1px rgba(0, 0, 0, 0.15);\n",
              "      filter: drop-shadow(0px 1px 2px rgba(0, 0, 0, 0.3));\n",
              "      fill: #FFFFFF;\n",
              "    }\n",
              "  </style>\n",
              "\n",
              "      <script>\n",
              "        const buttonEl =\n",
              "          document.querySelector('#df-552a0422-035b-45b9-9fc6-dc2ae03bf161 button.colab-df-convert');\n",
              "        buttonEl.style.display =\n",
              "          google.colab.kernel.accessAllowed ? 'block' : 'none';\n",
              "\n",
              "        async function convertToInteractive(key) {\n",
              "          const element = document.querySelector('#df-552a0422-035b-45b9-9fc6-dc2ae03bf161');\n",
              "          const dataTable =\n",
              "            await google.colab.kernel.invokeFunction('convertToInteractive',\n",
              "                                                     [key], {});\n",
              "          if (!dataTable) return;\n",
              "\n",
              "          const docLinkHtml = 'Like what you see? Visit the ' +\n",
              "            '<a target=\"_blank\" href=https://colab.research.google.com/notebooks/data_table.ipynb>data table notebook</a>'\n",
              "            + ' to learn more about interactive tables.';\n",
              "          element.innerHTML = '';\n",
              "          dataTable['output_type'] = 'display_data';\n",
              "          await google.colab.output.renderOutput(dataTable, element);\n",
              "          const docLink = document.createElement('div');\n",
              "          docLink.innerHTML = docLinkHtml;\n",
              "          element.appendChild(docLink);\n",
              "        }\n",
              "      </script>\n",
              "    </div>\n",
              "  </div>\n",
              "  "
            ]
          },
          "metadata": {},
          "execution_count": 6
        }
      ]
    },
    {
      "cell_type": "code",
      "source": [
        "# 행, 열개수 출력\n",
        "forest.shape"
      ],
      "metadata": {
        "colab": {
          "base_uri": "https://localhost:8080/"
        },
        "id": "6jieD86yJb1U",
        "outputId": "28dffa51-b518-4924-8f3c-91f709021b32"
      },
      "execution_count": 7,
      "outputs": [
        {
          "output_type": "execute_result",
          "data": {
            "text/plain": [
              "(5, 9)"
            ]
          },
          "metadata": {},
          "execution_count": 7
        }
      ]
    },
    {
      "cell_type": "code",
      "source": [
        "#변수 속성\n",
        "forest.info()"
      ],
      "metadata": {
        "colab": {
          "base_uri": "https://localhost:8080/"
        },
        "id": "ilUunoc5MR39",
        "outputId": "58e80f95-761b-43aa-f104-0846b4846983"
      },
      "execution_count": 8,
      "outputs": [
        {
          "output_type": "stream",
          "name": "stdout",
          "text": [
            "<class 'pandas.core.frame.DataFrame'>\n",
            "RangeIndex: 5 entries, 0 to 4\n",
            "Data columns (total 9 columns):\n",
            " #   Column         Non-Null Count  Dtype\n",
            "---  ------         --------------  -----\n",
            " 0   년도             5 non-null      int64\n",
            " 1   불법 산림형질변경(건)   5 non-null      int64\n",
            " 2   불법 산림형질변경(ha)  5 non-null      int64\n",
            " 3   무허가벌채(건)       5 non-null      int64\n",
            " 4   무허가벌채(ha)      5 non-null      int64\n",
            " 5   도벌(건)          5 non-null      int64\n",
            " 6   도벌(ha)         5 non-null      int64\n",
            " 7   기타(건)          5 non-null      int64\n",
            " 8   기타(ha)         5 non-null      int64\n",
            "dtypes: int64(9)\n",
            "memory usage: 488.0 bytes\n"
          ]
        }
      ]
    },
    {
      "cell_type": "code",
      "source": [
        "#요약 통계량\n",
        "forest.describe()"
      ],
      "metadata": {
        "colab": {
          "base_uri": "https://localhost:8080/",
          "height": 361
        },
        "id": "Ya7lg3mgMby-",
        "outputId": "229cfa4f-45cc-4f4c-f28b-07b282a7f5e1"
      },
      "execution_count": 9,
      "outputs": [
        {
          "output_type": "execute_result",
          "data": {
            "text/plain": [
              "                년도  불법 산림형질변경(건)  불법 산림형질변경(ha)     무허가벌채(건)  무허가벌채(ha)  \\\n",
              "count     5.000000      5.000000       5.000000     5.000000    5.00000   \n",
              "mean   2019.000000   2488.000000     423.800000   467.200000   71.00000   \n",
              "std       1.581139    143.643656      46.337889   337.121195   25.70992   \n",
              "min    2017.000000   2306.000000     377.000000   270.000000   40.00000   \n",
              "25%    2018.000000   2421.000000     397.000000   271.000000   48.00000   \n",
              "50%    2019.000000   2444.000000     405.000000   352.000000   79.00000   \n",
              "75%    2020.000000   2629.000000     447.000000   379.000000   90.00000   \n",
              "max    2021.000000   2640.000000     493.000000  1064.000000   98.00000   \n",
              "\n",
              "           도벌(건)    도벌(ha)        기타(건)       기타(ha)  \n",
              "count   5.000000  5.000000     5.000000     5.000000  \n",
              "mean   37.200000  3.000000   766.000000   661.400000  \n",
              "std    28.270126  2.345208   625.376686   351.406887  \n",
              "min    20.000000  1.000000   395.000000   245.000000  \n",
              "25%    23.000000  1.000000   488.000000   393.000000  \n",
              "50%    23.000000  2.000000   495.000000   647.000000  \n",
              "75%    33.000000  5.000000   573.000000   967.000000  \n",
              "max    87.000000  6.000000  1879.000000  1055.000000  "
            ],
            "text/html": [
              "\n",
              "  <div id=\"df-5c707444-0b53-4dca-a6c6-2ac286a67101\">\n",
              "    <div class=\"colab-df-container\">\n",
              "      <div>\n",
              "<style scoped>\n",
              "    .dataframe tbody tr th:only-of-type {\n",
              "        vertical-align: middle;\n",
              "    }\n",
              "\n",
              "    .dataframe tbody tr th {\n",
              "        vertical-align: top;\n",
              "    }\n",
              "\n",
              "    .dataframe thead th {\n",
              "        text-align: right;\n",
              "    }\n",
              "</style>\n",
              "<table border=\"1\" class=\"dataframe\">\n",
              "  <thead>\n",
              "    <tr style=\"text-align: right;\">\n",
              "      <th></th>\n",
              "      <th>년도</th>\n",
              "      <th>불법 산림형질변경(건)</th>\n",
              "      <th>불법 산림형질변경(ha)</th>\n",
              "      <th>무허가벌채(건)</th>\n",
              "      <th>무허가벌채(ha)</th>\n",
              "      <th>도벌(건)</th>\n",
              "      <th>도벌(ha)</th>\n",
              "      <th>기타(건)</th>\n",
              "      <th>기타(ha)</th>\n",
              "    </tr>\n",
              "  </thead>\n",
              "  <tbody>\n",
              "    <tr>\n",
              "      <th>count</th>\n",
              "      <td>5.000000</td>\n",
              "      <td>5.000000</td>\n",
              "      <td>5.000000</td>\n",
              "      <td>5.000000</td>\n",
              "      <td>5.00000</td>\n",
              "      <td>5.000000</td>\n",
              "      <td>5.000000</td>\n",
              "      <td>5.000000</td>\n",
              "      <td>5.000000</td>\n",
              "    </tr>\n",
              "    <tr>\n",
              "      <th>mean</th>\n",
              "      <td>2019.000000</td>\n",
              "      <td>2488.000000</td>\n",
              "      <td>423.800000</td>\n",
              "      <td>467.200000</td>\n",
              "      <td>71.00000</td>\n",
              "      <td>37.200000</td>\n",
              "      <td>3.000000</td>\n",
              "      <td>766.000000</td>\n",
              "      <td>661.400000</td>\n",
              "    </tr>\n",
              "    <tr>\n",
              "      <th>std</th>\n",
              "      <td>1.581139</td>\n",
              "      <td>143.643656</td>\n",
              "      <td>46.337889</td>\n",
              "      <td>337.121195</td>\n",
              "      <td>25.70992</td>\n",
              "      <td>28.270126</td>\n",
              "      <td>2.345208</td>\n",
              "      <td>625.376686</td>\n",
              "      <td>351.406887</td>\n",
              "    </tr>\n",
              "    <tr>\n",
              "      <th>min</th>\n",
              "      <td>2017.000000</td>\n",
              "      <td>2306.000000</td>\n",
              "      <td>377.000000</td>\n",
              "      <td>270.000000</td>\n",
              "      <td>40.00000</td>\n",
              "      <td>20.000000</td>\n",
              "      <td>1.000000</td>\n",
              "      <td>395.000000</td>\n",
              "      <td>245.000000</td>\n",
              "    </tr>\n",
              "    <tr>\n",
              "      <th>25%</th>\n",
              "      <td>2018.000000</td>\n",
              "      <td>2421.000000</td>\n",
              "      <td>397.000000</td>\n",
              "      <td>271.000000</td>\n",
              "      <td>48.00000</td>\n",
              "      <td>23.000000</td>\n",
              "      <td>1.000000</td>\n",
              "      <td>488.000000</td>\n",
              "      <td>393.000000</td>\n",
              "    </tr>\n",
              "    <tr>\n",
              "      <th>50%</th>\n",
              "      <td>2019.000000</td>\n",
              "      <td>2444.000000</td>\n",
              "      <td>405.000000</td>\n",
              "      <td>352.000000</td>\n",
              "      <td>79.00000</td>\n",
              "      <td>23.000000</td>\n",
              "      <td>2.000000</td>\n",
              "      <td>495.000000</td>\n",
              "      <td>647.000000</td>\n",
              "    </tr>\n",
              "    <tr>\n",
              "      <th>75%</th>\n",
              "      <td>2020.000000</td>\n",
              "      <td>2629.000000</td>\n",
              "      <td>447.000000</td>\n",
              "      <td>379.000000</td>\n",
              "      <td>90.00000</td>\n",
              "      <td>33.000000</td>\n",
              "      <td>5.000000</td>\n",
              "      <td>573.000000</td>\n",
              "      <td>967.000000</td>\n",
              "    </tr>\n",
              "    <tr>\n",
              "      <th>max</th>\n",
              "      <td>2021.000000</td>\n",
              "      <td>2640.000000</td>\n",
              "      <td>493.000000</td>\n",
              "      <td>1064.000000</td>\n",
              "      <td>98.00000</td>\n",
              "      <td>87.000000</td>\n",
              "      <td>6.000000</td>\n",
              "      <td>1879.000000</td>\n",
              "      <td>1055.000000</td>\n",
              "    </tr>\n",
              "  </tbody>\n",
              "</table>\n",
              "</div>\n",
              "      <button class=\"colab-df-convert\" onclick=\"convertToInteractive('df-5c707444-0b53-4dca-a6c6-2ac286a67101')\"\n",
              "              title=\"Convert this dataframe to an interactive table.\"\n",
              "              style=\"display:none;\">\n",
              "        \n",
              "  <svg xmlns=\"http://www.w3.org/2000/svg\" height=\"24px\"viewBox=\"0 0 24 24\"\n",
              "       width=\"24px\">\n",
              "    <path d=\"M0 0h24v24H0V0z\" fill=\"none\"/>\n",
              "    <path d=\"M18.56 5.44l.94 2.06.94-2.06 2.06-.94-2.06-.94-.94-2.06-.94 2.06-2.06.94zm-11 1L8.5 8.5l.94-2.06 2.06-.94-2.06-.94L8.5 2.5l-.94 2.06-2.06.94zm10 10l.94 2.06.94-2.06 2.06-.94-2.06-.94-.94-2.06-.94 2.06-2.06.94z\"/><path d=\"M17.41 7.96l-1.37-1.37c-.4-.4-.92-.59-1.43-.59-.52 0-1.04.2-1.43.59L10.3 9.45l-7.72 7.72c-.78.78-.78 2.05 0 2.83L4 21.41c.39.39.9.59 1.41.59.51 0 1.02-.2 1.41-.59l7.78-7.78 2.81-2.81c.8-.78.8-2.07 0-2.86zM5.41 20L4 18.59l7.72-7.72 1.47 1.35L5.41 20z\"/>\n",
              "  </svg>\n",
              "      </button>\n",
              "      \n",
              "  <style>\n",
              "    .colab-df-container {\n",
              "      display:flex;\n",
              "      flex-wrap:wrap;\n",
              "      gap: 12px;\n",
              "    }\n",
              "\n",
              "    .colab-df-convert {\n",
              "      background-color: #E8F0FE;\n",
              "      border: none;\n",
              "      border-radius: 50%;\n",
              "      cursor: pointer;\n",
              "      display: none;\n",
              "      fill: #1967D2;\n",
              "      height: 32px;\n",
              "      padding: 0 0 0 0;\n",
              "      width: 32px;\n",
              "    }\n",
              "\n",
              "    .colab-df-convert:hover {\n",
              "      background-color: #E2EBFA;\n",
              "      box-shadow: 0px 1px 2px rgba(60, 64, 67, 0.3), 0px 1px 3px 1px rgba(60, 64, 67, 0.15);\n",
              "      fill: #174EA6;\n",
              "    }\n",
              "\n",
              "    [theme=dark] .colab-df-convert {\n",
              "      background-color: #3B4455;\n",
              "      fill: #D2E3FC;\n",
              "    }\n",
              "\n",
              "    [theme=dark] .colab-df-convert:hover {\n",
              "      background-color: #434B5C;\n",
              "      box-shadow: 0px 1px 3px 1px rgba(0, 0, 0, 0.15);\n",
              "      filter: drop-shadow(0px 1px 2px rgba(0, 0, 0, 0.3));\n",
              "      fill: #FFFFFF;\n",
              "    }\n",
              "  </style>\n",
              "\n",
              "      <script>\n",
              "        const buttonEl =\n",
              "          document.querySelector('#df-5c707444-0b53-4dca-a6c6-2ac286a67101 button.colab-df-convert');\n",
              "        buttonEl.style.display =\n",
              "          google.colab.kernel.accessAllowed ? 'block' : 'none';\n",
              "\n",
              "        async function convertToInteractive(key) {\n",
              "          const element = document.querySelector('#df-5c707444-0b53-4dca-a6c6-2ac286a67101');\n",
              "          const dataTable =\n",
              "            await google.colab.kernel.invokeFunction('convertToInteractive',\n",
              "                                                     [key], {});\n",
              "          if (!dataTable) return;\n",
              "\n",
              "          const docLinkHtml = 'Like what you see? Visit the ' +\n",
              "            '<a target=\"_blank\" href=https://colab.research.google.com/notebooks/data_table.ipynb>data table notebook</a>'\n",
              "            + ' to learn more about interactive tables.';\n",
              "          element.innerHTML = '';\n",
              "          dataTable['output_type'] = 'display_data';\n",
              "          await google.colab.output.renderOutput(dataTable, element);\n",
              "          const docLink = document.createElement('div');\n",
              "          docLink.innerHTML = docLinkHtml;\n",
              "          element.appendChild(docLink);\n",
              "        }\n",
              "      </script>\n",
              "    </div>\n",
              "  </div>\n",
              "  "
            ]
          },
          "metadata": {},
          "execution_count": 9
        }
      ]
    },
    {
      "cell_type": "code",
      "source": [
        "# 년도별 총합수와 평균 행 만들기\n",
        "forest['합계(건)'] = (forest['불법 산림형질변경(건)']+forest['무허가벌채(건)']+forest['도벌(건)']+forest['기타(건)'])"
      ],
      "metadata": {
        "id": "HatqNcX3Mhea"
      },
      "execution_count": 10,
      "outputs": []
    },
    {
      "cell_type": "code",
      "source": [
        "forest"
      ],
      "metadata": {
        "colab": {
          "base_uri": "https://localhost:8080/",
          "height": 267
        },
        "id": "JwTO7cekOW2R",
        "outputId": "1efee54c-249b-443f-850e-1c801ca45aa8"
      },
      "execution_count": 11,
      "outputs": [
        {
          "output_type": "execute_result",
          "data": {
            "text/plain": [
              "     년도  불법 산림형질변경(건)  불법 산림형질변경(ha)  무허가벌채(건)  무허가벌채(ha)  도벌(건)  도벌(ha)  \\\n",
              "0  2017          2640            493      1064         79     87       5   \n",
              "1  2018          2306            405       270         90     20       1   \n",
              "2  2019          2444            397       271         98     33       6   \n",
              "3  2020          2421            377       352         40     23       1   \n",
              "4  2021          2629            447       379         48     23       2   \n",
              "\n",
              "   기타(건)  기타(ha)  합계(건)  \n",
              "0   1879    1055   5670  \n",
              "1    488     967   3084  \n",
              "2    573     393   3321  \n",
              "3    495     245   3291  \n",
              "4    395     647   3426  "
            ],
            "text/html": [
              "\n",
              "  <div id=\"df-c35c26d8-8b7b-41b3-8b25-bb8e29e202b5\">\n",
              "    <div class=\"colab-df-container\">\n",
              "      <div>\n",
              "<style scoped>\n",
              "    .dataframe tbody tr th:only-of-type {\n",
              "        vertical-align: middle;\n",
              "    }\n",
              "\n",
              "    .dataframe tbody tr th {\n",
              "        vertical-align: top;\n",
              "    }\n",
              "\n",
              "    .dataframe thead th {\n",
              "        text-align: right;\n",
              "    }\n",
              "</style>\n",
              "<table border=\"1\" class=\"dataframe\">\n",
              "  <thead>\n",
              "    <tr style=\"text-align: right;\">\n",
              "      <th></th>\n",
              "      <th>년도</th>\n",
              "      <th>불법 산림형질변경(건)</th>\n",
              "      <th>불법 산림형질변경(ha)</th>\n",
              "      <th>무허가벌채(건)</th>\n",
              "      <th>무허가벌채(ha)</th>\n",
              "      <th>도벌(건)</th>\n",
              "      <th>도벌(ha)</th>\n",
              "      <th>기타(건)</th>\n",
              "      <th>기타(ha)</th>\n",
              "      <th>합계(건)</th>\n",
              "    </tr>\n",
              "  </thead>\n",
              "  <tbody>\n",
              "    <tr>\n",
              "      <th>0</th>\n",
              "      <td>2017</td>\n",
              "      <td>2640</td>\n",
              "      <td>493</td>\n",
              "      <td>1064</td>\n",
              "      <td>79</td>\n",
              "      <td>87</td>\n",
              "      <td>5</td>\n",
              "      <td>1879</td>\n",
              "      <td>1055</td>\n",
              "      <td>5670</td>\n",
              "    </tr>\n",
              "    <tr>\n",
              "      <th>1</th>\n",
              "      <td>2018</td>\n",
              "      <td>2306</td>\n",
              "      <td>405</td>\n",
              "      <td>270</td>\n",
              "      <td>90</td>\n",
              "      <td>20</td>\n",
              "      <td>1</td>\n",
              "      <td>488</td>\n",
              "      <td>967</td>\n",
              "      <td>3084</td>\n",
              "    </tr>\n",
              "    <tr>\n",
              "      <th>2</th>\n",
              "      <td>2019</td>\n",
              "      <td>2444</td>\n",
              "      <td>397</td>\n",
              "      <td>271</td>\n",
              "      <td>98</td>\n",
              "      <td>33</td>\n",
              "      <td>6</td>\n",
              "      <td>573</td>\n",
              "      <td>393</td>\n",
              "      <td>3321</td>\n",
              "    </tr>\n",
              "    <tr>\n",
              "      <th>3</th>\n",
              "      <td>2020</td>\n",
              "      <td>2421</td>\n",
              "      <td>377</td>\n",
              "      <td>352</td>\n",
              "      <td>40</td>\n",
              "      <td>23</td>\n",
              "      <td>1</td>\n",
              "      <td>495</td>\n",
              "      <td>245</td>\n",
              "      <td>3291</td>\n",
              "    </tr>\n",
              "    <tr>\n",
              "      <th>4</th>\n",
              "      <td>2021</td>\n",
              "      <td>2629</td>\n",
              "      <td>447</td>\n",
              "      <td>379</td>\n",
              "      <td>48</td>\n",
              "      <td>23</td>\n",
              "      <td>2</td>\n",
              "      <td>395</td>\n",
              "      <td>647</td>\n",
              "      <td>3426</td>\n",
              "    </tr>\n",
              "  </tbody>\n",
              "</table>\n",
              "</div>\n",
              "      <button class=\"colab-df-convert\" onclick=\"convertToInteractive('df-c35c26d8-8b7b-41b3-8b25-bb8e29e202b5')\"\n",
              "              title=\"Convert this dataframe to an interactive table.\"\n",
              "              style=\"display:none;\">\n",
              "        \n",
              "  <svg xmlns=\"http://www.w3.org/2000/svg\" height=\"24px\"viewBox=\"0 0 24 24\"\n",
              "       width=\"24px\">\n",
              "    <path d=\"M0 0h24v24H0V0z\" fill=\"none\"/>\n",
              "    <path d=\"M18.56 5.44l.94 2.06.94-2.06 2.06-.94-2.06-.94-.94-2.06-.94 2.06-2.06.94zm-11 1L8.5 8.5l.94-2.06 2.06-.94-2.06-.94L8.5 2.5l-.94 2.06-2.06.94zm10 10l.94 2.06.94-2.06 2.06-.94-2.06-.94-.94-2.06-.94 2.06-2.06.94z\"/><path d=\"M17.41 7.96l-1.37-1.37c-.4-.4-.92-.59-1.43-.59-.52 0-1.04.2-1.43.59L10.3 9.45l-7.72 7.72c-.78.78-.78 2.05 0 2.83L4 21.41c.39.39.9.59 1.41.59.51 0 1.02-.2 1.41-.59l7.78-7.78 2.81-2.81c.8-.78.8-2.07 0-2.86zM5.41 20L4 18.59l7.72-7.72 1.47 1.35L5.41 20z\"/>\n",
              "  </svg>\n",
              "      </button>\n",
              "      \n",
              "  <style>\n",
              "    .colab-df-container {\n",
              "      display:flex;\n",
              "      flex-wrap:wrap;\n",
              "      gap: 12px;\n",
              "    }\n",
              "\n",
              "    .colab-df-convert {\n",
              "      background-color: #E8F0FE;\n",
              "      border: none;\n",
              "      border-radius: 50%;\n",
              "      cursor: pointer;\n",
              "      display: none;\n",
              "      fill: #1967D2;\n",
              "      height: 32px;\n",
              "      padding: 0 0 0 0;\n",
              "      width: 32px;\n",
              "    }\n",
              "\n",
              "    .colab-df-convert:hover {\n",
              "      background-color: #E2EBFA;\n",
              "      box-shadow: 0px 1px 2px rgba(60, 64, 67, 0.3), 0px 1px 3px 1px rgba(60, 64, 67, 0.15);\n",
              "      fill: #174EA6;\n",
              "    }\n",
              "\n",
              "    [theme=dark] .colab-df-convert {\n",
              "      background-color: #3B4455;\n",
              "      fill: #D2E3FC;\n",
              "    }\n",
              "\n",
              "    [theme=dark] .colab-df-convert:hover {\n",
              "      background-color: #434B5C;\n",
              "      box-shadow: 0px 1px 3px 1px rgba(0, 0, 0, 0.15);\n",
              "      filter: drop-shadow(0px 1px 2px rgba(0, 0, 0, 0.3));\n",
              "      fill: #FFFFFF;\n",
              "    }\n",
              "  </style>\n",
              "\n",
              "      <script>\n",
              "        const buttonEl =\n",
              "          document.querySelector('#df-c35c26d8-8b7b-41b3-8b25-bb8e29e202b5 button.colab-df-convert');\n",
              "        buttonEl.style.display =\n",
              "          google.colab.kernel.accessAllowed ? 'block' : 'none';\n",
              "\n",
              "        async function convertToInteractive(key) {\n",
              "          const element = document.querySelector('#df-c35c26d8-8b7b-41b3-8b25-bb8e29e202b5');\n",
              "          const dataTable =\n",
              "            await google.colab.kernel.invokeFunction('convertToInteractive',\n",
              "                                                     [key], {});\n",
              "          if (!dataTable) return;\n",
              "\n",
              "          const docLinkHtml = 'Like what you see? Visit the ' +\n",
              "            '<a target=\"_blank\" href=https://colab.research.google.com/notebooks/data_table.ipynb>data table notebook</a>'\n",
              "            + ' to learn more about interactive tables.';\n",
              "          element.innerHTML = '';\n",
              "          dataTable['output_type'] = 'display_data';\n",
              "          await google.colab.output.renderOutput(dataTable, element);\n",
              "          const docLink = document.createElement('div');\n",
              "          docLink.innerHTML = docLinkHtml;\n",
              "          element.appendChild(docLink);\n",
              "        }\n",
              "      </script>\n",
              "    </div>\n",
              "  </div>\n",
              "  "
            ]
          },
          "metadata": {},
          "execution_count": 11
        }
      ]
    },
    {
      "cell_type": "code",
      "source": [
        "forest['합계(ha)'] = (forest['불법 산림형질변경(ha)']+forest['무허가벌채(ha)']+forest['도벌(ha)']+forest['기타(ha)'])"
      ],
      "metadata": {
        "id": "jUONJc3dOZGN"
      },
      "execution_count": 12,
      "outputs": []
    },
    {
      "cell_type": "code",
      "source": [
        "# 평균 행 만들기\n",
        "forest['평균(건)'] = (forest['합계(건)']/4)"
      ],
      "metadata": {
        "id": "LLmEkEELOiC4"
      },
      "execution_count": 13,
      "outputs": []
    },
    {
      "cell_type": "code",
      "source": [
        "forest['평균(ha)']  = (forest['합계(ha)']/4)"
      ],
      "metadata": {
        "id": "A3E5dAFCPC6d"
      },
      "execution_count": 14,
      "outputs": []
    },
    {
      "cell_type": "code",
      "source": [
        "forest"
      ],
      "metadata": {
        "colab": {
          "base_uri": "https://localhost:8080/",
          "height": 267
        },
        "id": "rL8cF2XlPLW2",
        "outputId": "63e0a463-3635-4264-87ce-962492778af0"
      },
      "execution_count": 15,
      "outputs": [
        {
          "output_type": "execute_result",
          "data": {
            "text/plain": [
              "     년도  불법 산림형질변경(건)  불법 산림형질변경(ha)  무허가벌채(건)  무허가벌채(ha)  도벌(건)  도벌(ha)  \\\n",
              "0  2017          2640            493      1064         79     87       5   \n",
              "1  2018          2306            405       270         90     20       1   \n",
              "2  2019          2444            397       271         98     33       6   \n",
              "3  2020          2421            377       352         40     23       1   \n",
              "4  2021          2629            447       379         48     23       2   \n",
              "\n",
              "   기타(건)  기타(ha)  합계(건)  합계(ha)    평균(건)  평균(ha)  \n",
              "0   1879    1055   5670    1632  1417.50  408.00  \n",
              "1    488     967   3084    1463   771.00  365.75  \n",
              "2    573     393   3321     894   830.25  223.50  \n",
              "3    495     245   3291     663   822.75  165.75  \n",
              "4    395     647   3426    1144   856.50  286.00  "
            ],
            "text/html": [
              "\n",
              "  <div id=\"df-cfbe0bb2-ac17-4e58-8d90-c3ee08d559ad\">\n",
              "    <div class=\"colab-df-container\">\n",
              "      <div>\n",
              "<style scoped>\n",
              "    .dataframe tbody tr th:only-of-type {\n",
              "        vertical-align: middle;\n",
              "    }\n",
              "\n",
              "    .dataframe tbody tr th {\n",
              "        vertical-align: top;\n",
              "    }\n",
              "\n",
              "    .dataframe thead th {\n",
              "        text-align: right;\n",
              "    }\n",
              "</style>\n",
              "<table border=\"1\" class=\"dataframe\">\n",
              "  <thead>\n",
              "    <tr style=\"text-align: right;\">\n",
              "      <th></th>\n",
              "      <th>년도</th>\n",
              "      <th>불법 산림형질변경(건)</th>\n",
              "      <th>불법 산림형질변경(ha)</th>\n",
              "      <th>무허가벌채(건)</th>\n",
              "      <th>무허가벌채(ha)</th>\n",
              "      <th>도벌(건)</th>\n",
              "      <th>도벌(ha)</th>\n",
              "      <th>기타(건)</th>\n",
              "      <th>기타(ha)</th>\n",
              "      <th>합계(건)</th>\n",
              "      <th>합계(ha)</th>\n",
              "      <th>평균(건)</th>\n",
              "      <th>평균(ha)</th>\n",
              "    </tr>\n",
              "  </thead>\n",
              "  <tbody>\n",
              "    <tr>\n",
              "      <th>0</th>\n",
              "      <td>2017</td>\n",
              "      <td>2640</td>\n",
              "      <td>493</td>\n",
              "      <td>1064</td>\n",
              "      <td>79</td>\n",
              "      <td>87</td>\n",
              "      <td>5</td>\n",
              "      <td>1879</td>\n",
              "      <td>1055</td>\n",
              "      <td>5670</td>\n",
              "      <td>1632</td>\n",
              "      <td>1417.50</td>\n",
              "      <td>408.00</td>\n",
              "    </tr>\n",
              "    <tr>\n",
              "      <th>1</th>\n",
              "      <td>2018</td>\n",
              "      <td>2306</td>\n",
              "      <td>405</td>\n",
              "      <td>270</td>\n",
              "      <td>90</td>\n",
              "      <td>20</td>\n",
              "      <td>1</td>\n",
              "      <td>488</td>\n",
              "      <td>967</td>\n",
              "      <td>3084</td>\n",
              "      <td>1463</td>\n",
              "      <td>771.00</td>\n",
              "      <td>365.75</td>\n",
              "    </tr>\n",
              "    <tr>\n",
              "      <th>2</th>\n",
              "      <td>2019</td>\n",
              "      <td>2444</td>\n",
              "      <td>397</td>\n",
              "      <td>271</td>\n",
              "      <td>98</td>\n",
              "      <td>33</td>\n",
              "      <td>6</td>\n",
              "      <td>573</td>\n",
              "      <td>393</td>\n",
              "      <td>3321</td>\n",
              "      <td>894</td>\n",
              "      <td>830.25</td>\n",
              "      <td>223.50</td>\n",
              "    </tr>\n",
              "    <tr>\n",
              "      <th>3</th>\n",
              "      <td>2020</td>\n",
              "      <td>2421</td>\n",
              "      <td>377</td>\n",
              "      <td>352</td>\n",
              "      <td>40</td>\n",
              "      <td>23</td>\n",
              "      <td>1</td>\n",
              "      <td>495</td>\n",
              "      <td>245</td>\n",
              "      <td>3291</td>\n",
              "      <td>663</td>\n",
              "      <td>822.75</td>\n",
              "      <td>165.75</td>\n",
              "    </tr>\n",
              "    <tr>\n",
              "      <th>4</th>\n",
              "      <td>2021</td>\n",
              "      <td>2629</td>\n",
              "      <td>447</td>\n",
              "      <td>379</td>\n",
              "      <td>48</td>\n",
              "      <td>23</td>\n",
              "      <td>2</td>\n",
              "      <td>395</td>\n",
              "      <td>647</td>\n",
              "      <td>3426</td>\n",
              "      <td>1144</td>\n",
              "      <td>856.50</td>\n",
              "      <td>286.00</td>\n",
              "    </tr>\n",
              "  </tbody>\n",
              "</table>\n",
              "</div>\n",
              "      <button class=\"colab-df-convert\" onclick=\"convertToInteractive('df-cfbe0bb2-ac17-4e58-8d90-c3ee08d559ad')\"\n",
              "              title=\"Convert this dataframe to an interactive table.\"\n",
              "              style=\"display:none;\">\n",
              "        \n",
              "  <svg xmlns=\"http://www.w3.org/2000/svg\" height=\"24px\"viewBox=\"0 0 24 24\"\n",
              "       width=\"24px\">\n",
              "    <path d=\"M0 0h24v24H0V0z\" fill=\"none\"/>\n",
              "    <path d=\"M18.56 5.44l.94 2.06.94-2.06 2.06-.94-2.06-.94-.94-2.06-.94 2.06-2.06.94zm-11 1L8.5 8.5l.94-2.06 2.06-.94-2.06-.94L8.5 2.5l-.94 2.06-2.06.94zm10 10l.94 2.06.94-2.06 2.06-.94-2.06-.94-.94-2.06-.94 2.06-2.06.94z\"/><path d=\"M17.41 7.96l-1.37-1.37c-.4-.4-.92-.59-1.43-.59-.52 0-1.04.2-1.43.59L10.3 9.45l-7.72 7.72c-.78.78-.78 2.05 0 2.83L4 21.41c.39.39.9.59 1.41.59.51 0 1.02-.2 1.41-.59l7.78-7.78 2.81-2.81c.8-.78.8-2.07 0-2.86zM5.41 20L4 18.59l7.72-7.72 1.47 1.35L5.41 20z\"/>\n",
              "  </svg>\n",
              "      </button>\n",
              "      \n",
              "  <style>\n",
              "    .colab-df-container {\n",
              "      display:flex;\n",
              "      flex-wrap:wrap;\n",
              "      gap: 12px;\n",
              "    }\n",
              "\n",
              "    .colab-df-convert {\n",
              "      background-color: #E8F0FE;\n",
              "      border: none;\n",
              "      border-radius: 50%;\n",
              "      cursor: pointer;\n",
              "      display: none;\n",
              "      fill: #1967D2;\n",
              "      height: 32px;\n",
              "      padding: 0 0 0 0;\n",
              "      width: 32px;\n",
              "    }\n",
              "\n",
              "    .colab-df-convert:hover {\n",
              "      background-color: #E2EBFA;\n",
              "      box-shadow: 0px 1px 2px rgba(60, 64, 67, 0.3), 0px 1px 3px 1px rgba(60, 64, 67, 0.15);\n",
              "      fill: #174EA6;\n",
              "    }\n",
              "\n",
              "    [theme=dark] .colab-df-convert {\n",
              "      background-color: #3B4455;\n",
              "      fill: #D2E3FC;\n",
              "    }\n",
              "\n",
              "    [theme=dark] .colab-df-convert:hover {\n",
              "      background-color: #434B5C;\n",
              "      box-shadow: 0px 1px 3px 1px rgba(0, 0, 0, 0.15);\n",
              "      filter: drop-shadow(0px 1px 2px rgba(0, 0, 0, 0.3));\n",
              "      fill: #FFFFFF;\n",
              "    }\n",
              "  </style>\n",
              "\n",
              "      <script>\n",
              "        const buttonEl =\n",
              "          document.querySelector('#df-cfbe0bb2-ac17-4e58-8d90-c3ee08d559ad button.colab-df-convert');\n",
              "        buttonEl.style.display =\n",
              "          google.colab.kernel.accessAllowed ? 'block' : 'none';\n",
              "\n",
              "        async function convertToInteractive(key) {\n",
              "          const element = document.querySelector('#df-cfbe0bb2-ac17-4e58-8d90-c3ee08d559ad');\n",
              "          const dataTable =\n",
              "            await google.colab.kernel.invokeFunction('convertToInteractive',\n",
              "                                                     [key], {});\n",
              "          if (!dataTable) return;\n",
              "\n",
              "          const docLinkHtml = 'Like what you see? Visit the ' +\n",
              "            '<a target=\"_blank\" href=https://colab.research.google.com/notebooks/data_table.ipynb>data table notebook</a>'\n",
              "            + ' to learn more about interactive tables.';\n",
              "          element.innerHTML = '';\n",
              "          dataTable['output_type'] = 'display_data';\n",
              "          await google.colab.output.renderOutput(dataTable, element);\n",
              "          const docLink = document.createElement('div');\n",
              "          docLink.innerHTML = docLinkHtml;\n",
              "          element.appendChild(docLink);\n",
              "        }\n",
              "      </script>\n",
              "    </div>\n",
              "  </div>\n",
              "  "
            ]
          },
          "metadata": {},
          "execution_count": 15
        }
      ]
    },
    {
      "cell_type": "code",
      "source": [
        "import matplotlib.pyplot as plt\n",
        "plt.rc('font', family='NanumBarunGothic')"
      ],
      "metadata": {
        "id": "wkPTESj3UvBv"
      },
      "execution_count": 16,
      "outputs": []
    },
    {
      "cell_type": "code",
      "source": [
        "# 년도별 별(총건수) 막대 그래프 만들기\n",
        "\n",
        "sns.barplot(data=forest, x='년도', y='합계(건)')"
      ],
      "metadata": {
        "colab": {
          "base_uri": "https://localhost:8080/",
          "height": 297
        },
        "id": "5plqKYz7PMyZ",
        "outputId": "043d2b0a-e7af-4ffd-e81c-623801436f19"
      },
      "execution_count": 17,
      "outputs": [
        {
          "output_type": "execute_result",
          "data": {
            "text/plain": [
              "<matplotlib.axes._subplots.AxesSubplot at 0x7f906d6ab790>"
            ]
          },
          "metadata": {},
          "execution_count": 17
        },
        {
          "output_type": "display_data",
          "data": {
            "text/plain": [
              "<Figure size 432x288 with 1 Axes>"
            ],
            "image/png": "[encoded data removed]"
          },
          "metadata": {
            "needs_background": "light"
          }
        }
      ]
    },
    {
      "cell_type": "code",
      "source": [
        "# 년도별 별(총ha) 막대 그래프 만들기\n",
        "sns.barplot(data=forest, x='년도', y='합계(ha)')"
      ],
      "metadata": {
        "colab": {
          "base_uri": "https://localhost:8080/",
          "height": 297
        },
        "id": "B4D_dFcHUXEH",
        "outputId": "96d8fadc-36e3-458c-ac5c-5a3da71d5539"
      },
      "execution_count": 18,
      "outputs": [
        {
          "output_type": "execute_result",
          "data": {
            "text/plain": [
              "<matplotlib.axes._subplots.AxesSubplot at 0x7f906d6e6fd0>"
            ]
          },
          "metadata": {},
          "execution_count": 18
        },
        {
          "output_type": "display_data",
          "data": {
            "text/plain": [
              "<Figure size 432x288 with 1 Axes>"
            ],
            "image/png": "[encoded data removed]"
          },
          "metadata": {
            "needs_background": "light"
          }
        }
      ]
    },
    {
      "cell_type": "code",
      "source": [
        "# 년도별 무허가 벌채(ha)\n",
        "sns.lineplot(data = forest, x = '년도', y = '무허가벌채(ha)')"
      ],
      "metadata": {
        "colab": {
          "base_uri": "https://localhost:8080/",
          "height": 298
        },
        "id": "nFXU9-Z-VVcV",
        "outputId": "c720db21-4db9-4f07-ab12-1e49d67f8b7a"
      },
      "execution_count": 19,
      "outputs": [
        {
          "output_type": "execute_result",
          "data": {
            "text/plain": [
              "<matplotlib.axes._subplots.AxesSubplot at 0x7f906d13dd60>"
            ]
          },
          "metadata": {},
          "execution_count": 19
        },
        {
          "output_type": "display_data",
          "data": {
            "text/plain": [
              "<Figure size 432x288 with 1 Axes>"
            ],
            "image/png": "[encoded data removed]"
          },
          "metadata": {
            "needs_background": "light"
          }
        }
      ]
    },
    {
      "cell_type": "code",
      "source": [
        "#년도별 무허가 벌채(건)\n",
        "sns.lineplot(data = forest, x = '년도', y = '무허가벌채(건)')"
      ],
      "metadata": {
        "colab": {
          "base_uri": "https://localhost:8080/",
          "height": 300
        },
        "id": "KnN0qXG8WW_-",
        "outputId": "9f60d69f-7465-4ec1-a129-ac8aa4758bd2"
      },
      "execution_count": 20,
      "outputs": [
        {
          "output_type": "execute_result",
          "data": {
            "text/plain": [
              "<matplotlib.axes._subplots.AxesSubplot at 0x7f906c672e20>"
            ]
          },
          "metadata": {},
          "execution_count": 20
        },
        {
          "output_type": "display_data",
          "data": {
            "text/plain": [
              "<Figure size 432x288 with 1 Axes>"
            ],
            "image/png": "[encoded data removed]"
          },
          "metadata": {
            "needs_background": "light"
          }
        }
      ]
    },
    {
      "cell_type": "code",
      "source": [
        "#불법 산림형질변경(건)\n",
        "sns.scatterplot(data =forest, x='불법 산림형질변경(건)', y=\"년도\")"
      ],
      "metadata": {
        "colab": {
          "base_uri": "https://localhost:8080/",
          "height": 297
        },
        "id": "DgHBBG3JWhPn",
        "outputId": "f5504867-013c-4821-d46a-d371386c8e15"
      },
      "execution_count": 32,
      "outputs": [
        {
          "output_type": "execute_result",
          "data": {
            "text/plain": [
              "<matplotlib.axes._subplots.AxesSubplot at 0x7f906c291d90>"
            ]
          },
          "metadata": {},
          "execution_count": 32
        },
        {
          "output_type": "display_data",
          "data": {
            "text/plain": [
              "<Figure size 432x288 with 1 Axes>"
            ],
            "image/png": "[encoded data removed]"
          },
          "metadata": {
            "needs_background": "light"
          }
        }
      ]
    },
    {
      "cell_type": "code",
      "source": [
        "sns.lineplot(data=forest, x=\"년도\", y=\"도벌(건)\")"
      ],
      "metadata": {
        "colab": {
          "base_uri": "https://localhost:8080/",
          "height": 300
        },
        "id": "TIEqPyLuXWYB",
        "outputId": "3f566909-c935-4cce-9972-e1bbd74a9387"
      },
      "execution_count": 33,
      "outputs": [
        {
          "output_type": "execute_result",
          "data": {
            "text/plain": [
              "<matplotlib.axes._subplots.AxesSubplot at 0x7f906a525c40>"
            ]
          },
          "metadata": {},
          "execution_count": 33
        },
        {
          "output_type": "display_data",
          "data": {
            "text/plain": [
              "<Figure size 432x288 with 1 Axes>"
            ],
            "image/png": "[encoded data removed]"
          },
          "metadata": {
            "needs_background": "light"
          }
        }
      ]
    },
    {
      "cell_type": "code",
      "source": [],
      "metadata": {
        "id": "ercwfvWCjhmR"
      },
      "execution_count": null,
      "outputs": []
    }
  ]
}